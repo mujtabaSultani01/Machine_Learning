{
 "cells": [
  {
   "cell_type": "markdown",
   "id": "8cf9e44a",
   "metadata": {},
   "source": [
    "## Machine Learning \n",
    "**Machine learning (ML)** is a branch of artificial intelligence (AI) and computer science which focuses on the use of data and algorithms to imitate the way that humans learn, gradually improving its accuracy. \n",
    "\n",
    "ML is quite broad term. It's complete field in computer science where we use different techniques and Deep Learning (DL) is one of them. ML is a set of techniques to extract knowledge from available data, and use the knowledge to make future decisions. Mathematical and Statistical models are other part of ML where we use it:"
   ]
  },
  {
   "cell_type": "markdown",
   "id": "01eea0ae",
   "metadata": {},
   "source": [
    "<img src=\"ML.png\" style=\"width:400px; height:400px\"/>"
   ]
  },
  {
   "cell_type": "markdown",
   "id": "76e57536",
   "metadata": {},
   "source": [
    "Over the last couple of decades, the technological advances in storage and processing power have enabled some innovative products based on machine learning, such as Netflix’s recommendation engine and self-driving cars.\n",
    "\n",
    "Machine learning is an important component of the growing field of data science. Through the use of statistical methods, algorithms are trained to make classifications or predictions, and to uncover key insights in data mining projects. These insights subsequently drive decision making within applications and businesses, ideally impacting key growth metrics. As big data continues to expand and grow, the market demand for data scientists will increase. They will be required to help identify the most relevant business questions and the data to answer them.\n",
    "\n",
    "Machine learning algorithms are typically created using frameworks that accelerate solution development, such as TensorFlow and PyTorch."
   ]
  },
  {
   "cell_type": "markdown",
   "id": "cf6a5449",
   "metadata": {},
   "source": [
    "### Machine Learning vs. Deep Learning vs. Neural Networks\n",
    "Since deep learning and machine learning tend to be used interchangeably, it’s worth noting the nuances between the two. Machine learning, deep learning, and neural networks are all sub-fields of artificial intelligence. However, neural networks is actually a sub-field of machine learning, and deep learning is a sub-field of neural networks.\n",
    "\n",
    "The way in which deep learning and machine learning differ is in how each algorithm learns. \"Deep\" machine learning can use labeled datasets, also known as supervised learning, to inform its algorithm, but it doesn’t necessarily require a labeled dataset. Deep learning can ingest unstructured data in its raw form (e.g., text or images), and it can automatically determine the set of features which distinguish different categories of data from one another. This eliminates some of the human intervention required and enables the use of larger data sets. You can think of deep learning as \"scalable machine learning\".\n",
    "\n",
    "Classical, or \"non-deep\", machine learning is more dependent on human intervention to learn. Human experts determine the set of features to understand the differences between data inputs, usually requiring more structured data to learn.\n",
    "\n",
    "Neural networks, or artificial neural networks (ANNs), are comprised of node layers, containing an input layer, one or more hidden layers, and an output layer. Each node, or artificial neuron, connects to another and has an associated weight and threshold. If the output of any individual node is above the specified threshold value, that node is activated, sending data to the next layer of the network. Otherwise, no data is passed along to the next layer of the network by that node. The “deep” in deep learning is just referring to the number of layers in a neural network. A neural network that consists of more than three layers—which would be inclusive of the input and the output—can be considered a deep learning algorithm or a deep neural network. A neural network that only has three layers is just a basic neural network.\n",
    "\n",
    "Deep learning and neural networks are credited with accelerating progress in areas such as computer vision, natural language processing, and speech recognition."
   ]
  },
  {
   "cell_type": "markdown",
   "id": "cec788c9",
   "metadata": {},
   "source": [
    "In this tutorial I discuss and implement some basic ML algorithms, let's stay with me..."
   ]
  }
 ],
 "metadata": {
  "kernelspec": {
   "display_name": "Python 3 (ipykernel)",
   "language": "python",
   "name": "python3"
  },
  "language_info": {
   "codemirror_mode": {
    "name": "ipython",
    "version": 3
   },
   "file_extension": ".py",
   "mimetype": "text/x-python",
   "name": "python",
   "nbconvert_exporter": "python",
   "pygments_lexer": "ipython3",
   "version": "3.9.12"
  }
 },
 "nbformat": 4,
 "nbformat_minor": 5
}
