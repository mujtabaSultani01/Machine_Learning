{
 "cells": [
  {
   "cell_type": "markdown",
   "id": "f63d2aed",
   "metadata": {},
   "source": [
    "## Bias Vs Variance in Machine Learning\n",
    "**Bias and variance** are two important concepts in machine learning. Bias is a measure of how far away a model's predictions are from the true values, while variance is a measure of how scattered the model's predictions are. It is important to understand these concepts as they can help identify potential problems with a model, such as overfitting or underfitting. Having an understanding of bias and variance can also help to improve a model's accuracy by adjusting the hyperparameters.\n",
    "\n",
    "1. **High Variance:** When your test errors varies greatly based on the selection of the training dataset.\n",
    "2. **Low Variance:** When your test errors varies smaller based on the selection of the training dataset.\n",
    "3. **Bias** is a measurement of how accurately a model can capture a pattern in the training datast. In a case, where train error is big, it said to have a **high bias**.\n",
    "\n",
    "**Note:** When you talking about variance, hight variance, it means you're talking about Test Errors. But when you're talking about bias, high bias, it means you're talking about train error.As result, when you have an **Overfit Model** it means you have **high variance**, if you have **Underfit Model** it means you have **high bias**, and if you have **Balanced Fit Model** it means you have **Low Bias and Low Variance**. As data scientist you need to come of with the **Balanced Fit Model**."
   ]
  },
  {
   "cell_type": "markdown",
   "id": "61b87d50",
   "metadata": {},
   "source": [
    "* Ways to get **balanced fit model** are:\n",
    "    1. Cross Validation\n",
    "    2. Regularization\n",
    "    3. Dimensionality Reduction\n",
    "    4. Ensemble Techniques (Bagging & Boosting)"
   ]
  }
 ],
 "metadata": {
  "kernelspec": {
   "display_name": "Python 3 (ipykernel)",
   "language": "python",
   "name": "python3"
  },
  "language_info": {
   "codemirror_mode": {
    "name": "ipython",
    "version": 3
   },
   "file_extension": ".py",
   "mimetype": "text/x-python",
   "name": "python",
   "nbconvert_exporter": "python",
   "pygments_lexer": "ipython3",
   "version": "3.9.12"
  }
 },
 "nbformat": 4,
 "nbformat_minor": 5
}
