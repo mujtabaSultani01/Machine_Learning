{
 "cells": [
  {
   "cell_type": "markdown",
   "id": "8f896b0c",
   "metadata": {},
   "source": [
    "## Feature Engineering\n",
    "\n",
    "**Feature engineering** is the process of transforming raw data into meaningful features that can be used for machine learning. This involves selecting, creating, combining, and scaling features that make machine learning algorithms work. Feature engineering can involve feature selection, feature extraction, feature construction, and feature scaling. Through feature engineering, data scientists can create features that provide the most predictive power for their models.\n",
    "* The three basic outlier techniques are:\n",
    "   1. Domain Knowledge\n",
    "   2. Visualization\n",
    "   3. Math/Statistics (Two standard deviation)\n",
    "   \n",
    "   \n",
    "* Outlier Detection, One Hot Encoding and Handling Missing Values are the three basic examples of features engineering.\n",
    "* As result by simple way we can define feature engineering as: Feature Engineering is a process of extracting useful features from raw data using math, statistics and domain knowledge."
   ]
  }
 ],
 "metadata": {
  "kernelspec": {
   "display_name": "Python 3 (ipykernel)",
   "language": "python",
   "name": "python3"
  },
  "language_info": {
   "codemirror_mode": {
    "name": "ipython",
    "version": 3
   },
   "file_extension": ".py",
   "mimetype": "text/x-python",
   "name": "python",
   "nbconvert_exporter": "python",
   "pygments_lexer": "ipython3",
   "version": "3.9.12"
  }
 },
 "nbformat": 4,
 "nbformat_minor": 5
}
