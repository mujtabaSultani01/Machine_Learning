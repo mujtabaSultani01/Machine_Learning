{
 "cells": [
  {
   "cell_type": "markdown",
   "id": "7913bc32",
   "metadata": {},
   "source": [
    "## K-Nearest Neighbor Classification Algorithm\n",
    "**K-nearest neighbor (KNN)** is an unsupervised machine learning algorithm used for classification and regression. It works by finding the k-closest points to a given data point in the feature space and then assigning the data point a label based on the labels of the neighboring points. KNN can be used for both supervised and unsupervised learning tasks. It is also a non-parametric algorithm, meaning it does not make assumptions about the distribution of data."
   ]
  },
  {
   "cell_type": "code",
   "execution_count": 1,
   "id": "466ea3fb",
   "metadata": {},
   "outputs": [],
   "source": [
    "# Load the dataset of iris flowers:\n",
    "import pandas as pd\n",
    "from sklearn.datasets import load_iris\n",
    "\n",
    "iris = load_iris()"
   ]
  },
  {
   "cell_type": "code",
   "execution_count": 2,
   "id": "4329277b",
   "metadata": {},
   "outputs": [
    {
     "data": {
      "text/plain": [
       "['DESCR',\n",
       " 'data',\n",
       " 'data_module',\n",
       " 'feature_names',\n",
       " 'filename',\n",
       " 'frame',\n",
       " 'target',\n",
       " 'target_names']"
      ]
     },
     "execution_count": 2,
     "metadata": {},
     "output_type": "execute_result"
    }
   ],
   "source": [
    "# To check which columns we have in the dataset:\n",
    "dir(iris)"
   ]
  },
  {
   "cell_type": "code",
   "execution_count": 4,
   "id": "5db74817",
   "metadata": {},
   "outputs": [
    {
     "data": {
      "text/plain": [
       "array(['setosa', 'versicolor', 'virginica'], dtype='<U10')"
      ]
     },
     "execution_count": 4,
     "metadata": {},
     "output_type": "execute_result"
    }
   ],
   "source": [
    "# To see the target names:\n",
    "iris.target_names"
   ]
  },
  {
   "cell_type": "code",
   "execution_count": 3,
   "id": "1610794c",
   "metadata": {},
   "outputs": [
    {
     "data": {
      "text/plain": [
       "['sepal length (cm)',\n",
       " 'sepal width (cm)',\n",
       " 'petal length (cm)',\n",
       " 'petal width (cm)']"
      ]
     },
     "execution_count": 3,
     "metadata": {},
     "output_type": "execute_result"
    }
   ],
   "source": [
    "# Let's see the feature_names:\n",
    "iris.feature_names"
   ]
  },
  {
   "cell_type": "code",
   "execution_count": 5,
   "id": "bbf1083d",
   "metadata": {
    "scrolled": false
   },
   "outputs": [
    {
     "data": {
      "text/html": [
       "<div>\n",
       "<style scoped>\n",
       "    .dataframe tbody tr th:only-of-type {\n",
       "        vertical-align: middle;\n",
       "    }\n",
       "\n",
       "    .dataframe tbody tr th {\n",
       "        vertical-align: top;\n",
       "    }\n",
       "\n",
       "    .dataframe thead th {\n",
       "        text-align: right;\n",
       "    }\n",
       "</style>\n",
       "<table border=\"1\" class=\"dataframe\">\n",
       "  <thead>\n",
       "    <tr style=\"text-align: right;\">\n",
       "      <th></th>\n",
       "      <th>sepal length (cm)</th>\n",
       "      <th>sepal width (cm)</th>\n",
       "      <th>petal length (cm)</th>\n",
       "      <th>petal width (cm)</th>\n",
       "    </tr>\n",
       "  </thead>\n",
       "  <tbody>\n",
       "    <tr>\n",
       "      <th>0</th>\n",
       "      <td>5.1</td>\n",
       "      <td>3.5</td>\n",
       "      <td>1.4</td>\n",
       "      <td>0.2</td>\n",
       "    </tr>\n",
       "    <tr>\n",
       "      <th>1</th>\n",
       "      <td>4.9</td>\n",
       "      <td>3.0</td>\n",
       "      <td>1.4</td>\n",
       "      <td>0.2</td>\n",
       "    </tr>\n",
       "    <tr>\n",
       "      <th>2</th>\n",
       "      <td>4.7</td>\n",
       "      <td>3.2</td>\n",
       "      <td>1.3</td>\n",
       "      <td>0.2</td>\n",
       "    </tr>\n",
       "    <tr>\n",
       "      <th>3</th>\n",
       "      <td>4.6</td>\n",
       "      <td>3.1</td>\n",
       "      <td>1.5</td>\n",
       "      <td>0.2</td>\n",
       "    </tr>\n",
       "    <tr>\n",
       "      <th>4</th>\n",
       "      <td>5.0</td>\n",
       "      <td>3.6</td>\n",
       "      <td>1.4</td>\n",
       "      <td>0.2</td>\n",
       "    </tr>\n",
       "  </tbody>\n",
       "</table>\n",
       "</div>"
      ],
      "text/plain": [
       "   sepal length (cm)  sepal width (cm)  petal length (cm)  petal width (cm)\n",
       "0                5.1               3.5                1.4               0.2\n",
       "1                4.9               3.0                1.4               0.2\n",
       "2                4.7               3.2                1.3               0.2\n",
       "3                4.6               3.1                1.5               0.2\n",
       "4                5.0               3.6                1.4               0.2"
      ]
     },
     "execution_count": 5,
     "metadata": {},
     "output_type": "execute_result"
    }
   ],
   "source": [
    "# Let's create the DataFrame from the feature_names:\n",
    "df = pd.DataFrame(iris.data, columns = iris.feature_names)\n",
    "df.head()"
   ]
  },
  {
   "cell_type": "code",
   "execution_count": 9,
   "id": "0eecbae1",
   "metadata": {},
   "outputs": [
    {
     "data": {
      "text/html": [
       "<div>\n",
       "<style scoped>\n",
       "    .dataframe tbody tr th:only-of-type {\n",
       "        vertical-align: middle;\n",
       "    }\n",
       "\n",
       "    .dataframe tbody tr th {\n",
       "        vertical-align: top;\n",
       "    }\n",
       "\n",
       "    .dataframe thead th {\n",
       "        text-align: right;\n",
       "    }\n",
       "</style>\n",
       "<table border=\"1\" class=\"dataframe\">\n",
       "  <thead>\n",
       "    <tr style=\"text-align: right;\">\n",
       "      <th></th>\n",
       "      <th>sepal length (cm)</th>\n",
       "      <th>sepal width (cm)</th>\n",
       "      <th>petal length (cm)</th>\n",
       "      <th>petal width (cm)</th>\n",
       "      <th>target</th>\n",
       "    </tr>\n",
       "  </thead>\n",
       "  <tbody>\n",
       "    <tr>\n",
       "      <th>0</th>\n",
       "      <td>5.1</td>\n",
       "      <td>3.5</td>\n",
       "      <td>1.4</td>\n",
       "      <td>0.2</td>\n",
       "      <td>0</td>\n",
       "    </tr>\n",
       "    <tr>\n",
       "      <th>1</th>\n",
       "      <td>4.9</td>\n",
       "      <td>3.0</td>\n",
       "      <td>1.4</td>\n",
       "      <td>0.2</td>\n",
       "      <td>0</td>\n",
       "    </tr>\n",
       "    <tr>\n",
       "      <th>2</th>\n",
       "      <td>4.7</td>\n",
       "      <td>3.2</td>\n",
       "      <td>1.3</td>\n",
       "      <td>0.2</td>\n",
       "      <td>0</td>\n",
       "    </tr>\n",
       "    <tr>\n",
       "      <th>3</th>\n",
       "      <td>4.6</td>\n",
       "      <td>3.1</td>\n",
       "      <td>1.5</td>\n",
       "      <td>0.2</td>\n",
       "      <td>0</td>\n",
       "    </tr>\n",
       "    <tr>\n",
       "      <th>4</th>\n",
       "      <td>5.0</td>\n",
       "      <td>3.6</td>\n",
       "      <td>1.4</td>\n",
       "      <td>0.2</td>\n",
       "      <td>0</td>\n",
       "    </tr>\n",
       "  </tbody>\n",
       "</table>\n",
       "</div>"
      ],
      "text/plain": [
       "   sepal length (cm)  sepal width (cm)  petal length (cm)  petal width (cm)  \\\n",
       "0                5.1               3.5                1.4               0.2   \n",
       "1                4.9               3.0                1.4               0.2   \n",
       "2                4.7               3.2                1.3               0.2   \n",
       "3                4.6               3.1                1.5               0.2   \n",
       "4                5.0               3.6                1.4               0.2   \n",
       "\n",
       "   target  \n",
       "0       0  \n",
       "1       0  \n",
       "2       0  \n",
       "3       0  \n",
       "4       0  "
      ]
     },
     "execution_count": 9,
     "metadata": {},
     "output_type": "execute_result"
    }
   ],
   "source": [
    "# To add the target column to the DataFrame:\n",
    "df[\"target\"] =  iris.target\n",
    "df.head()"
   ]
  },
  {
   "cell_type": "code",
   "execution_count": 11,
   "id": "ce386d3e",
   "metadata": {},
   "outputs": [],
   "source": [
    "# Now to plot the scatter plot of the DataFrame, let's create three DataFrames, each DataFrame for each color:\n",
    "df1 = df[df.target == 0]\n",
    "df2 = df[df.target == 1]\n",
    "df3 = df[df.target == 2]"
   ]
  },
  {
   "cell_type": "code",
   "execution_count": 13,
   "id": "29d5b527",
   "metadata": {},
   "outputs": [],
   "source": [
    "# To plot each DataFrame, we need to import matplotlib:\n",
    "from matplotlib import pyplot as plt\n",
    "%matplotlib inline"
   ]
  },
  {
   "cell_type": "code",
   "execution_count": 15,
   "id": "fde1fc4b",
   "metadata": {
    "scrolled": true
   },
   "outputs": [
    {
     "data": {
      "text/plain": [
       "<matplotlib.collections.PathCollection at 0x1c556952910>"
      ]
     },
     "execution_count": 15,
     "metadata": {},
     "output_type": "execute_result"
    },
    {
     "data": {
      "image/png": "[encoded data removed]",
      "text/plain": [
       "<Figure size 432x288 with 1 Axes>"
      ]
     },
     "metadata": {
      "needs_background": "light"
     },
     "output_type": "display_data"
    }
   ],
   "source": [
    "# Let's plot the scatter plot:\n",
    "plt.xlabel('Sepal Length')\n",
    "plt.ylabel('Sepal Width')\n",
    "plt.scatter(df1['sepal length (cm)'], df1['sepal width (cm)'],color=\"green\")\n",
    "plt.scatter(df2['sepal length (cm)'], df2['sepal width (cm)'],color=\"blue\")"
   ]
  },
  {
   "cell_type": "code",
   "execution_count": 16,
   "id": "0ccf1340",
   "metadata": {},
   "outputs": [],
   "source": [
    "# Now let's split the dataset into train and test samples:\n",
    "from sklearn.model_selection import train_test_split\n",
    "x_train, x_test, y_train, y_test = train_test_split (iris.data, iris.target, test_size = 0.2)"
   ]
  },
  {
   "cell_type": "code",
   "execution_count": 17,
   "id": "aa98c2cf",
   "metadata": {},
   "outputs": [
    {
     "data": {
      "text/plain": [
       "120"
      ]
     },
     "execution_count": 17,
     "metadata": {},
     "output_type": "execute_result"
    }
   ],
   "source": [
    "# Train samples:\n",
    "len(x_train)"
   ]
  },
  {
   "cell_type": "code",
   "execution_count": 18,
   "id": "bb61140e",
   "metadata": {},
   "outputs": [
    {
     "data": {
      "text/plain": [
       "30"
      ]
     },
     "execution_count": 18,
     "metadata": {},
     "output_type": "execute_result"
    }
   ],
   "source": [
    "# Test samples:\n",
    "len(x_test)"
   ]
  },
  {
   "cell_type": "code",
   "execution_count": 40,
   "id": "80591d3b",
   "metadata": {},
   "outputs": [],
   "source": [
    "# Now the datasets are ready, let's call the model:\n",
    "from sklearn.neighbors import KNeighborsClassifier\n",
    "knn = KNeighborsClassifier(n_neighbors = 5)"
   ]
  },
  {
   "cell_type": "code",
   "execution_count": 41,
   "id": "d95030e6",
   "metadata": {},
   "outputs": [
    {
     "data": {
      "text/plain": [
       "KNeighborsClassifier()"
      ]
     },
     "execution_count": 41,
     "metadata": {},
     "output_type": "execute_result"
    }
   ],
   "source": [
    "# To train the model:\n",
    "knn.fit(x_train, y_train)"
   ]
  },
  {
   "cell_type": "code",
   "execution_count": 42,
   "id": "5f909aef",
   "metadata": {},
   "outputs": [
    {
     "data": {
      "text/plain": [
       "0.9666666666666667"
      ]
     },
     "execution_count": 42,
     "metadata": {},
     "output_type": "execute_result"
    }
   ],
   "source": [
    "# See the score of the model:\n",
    "knn.score(x_test, y_test)"
   ]
  },
  {
   "cell_type": "code",
   "execution_count": 44,
   "id": "59373601",
   "metadata": {},
   "outputs": [
    {
     "data": {
      "text/plain": [
       "array([[ 9,  0,  0],\n",
       "       [ 0, 10,  0],\n",
       "       [ 0,  1, 10]], dtype=int64)"
      ]
     },
     "execution_count": 44,
     "metadata": {},
     "output_type": "execute_result"
    }
   ],
   "source": [
    "# Let's see the prediction using confusion matrix:\n",
    "from sklearn.metrics import confusion_matrix\n",
    "y_predicted = knn.predict(x_test)\n",
    "\n",
    "cm = confusion_matrix(y_test, y_predicted)\n",
    "cm"
   ]
  },
  {
   "cell_type": "code",
   "execution_count": 45,
   "id": "8ba3eef3",
   "metadata": {},
   "outputs": [
    {
     "data": {
      "text/plain": [
       "Text(42.0, 0.5, 'Truth')"
      ]
     },
     "execution_count": 45,
     "metadata": {},
     "output_type": "execute_result"
    },
    {
     "data": {
      "image/png": "[encoded data removed]",
      "text/plain": [
       "<Figure size 504x360 with 2 Axes>"
      ]
     },
     "metadata": {
      "needs_background": "light"
     },
     "output_type": "display_data"
    }
   ],
   "source": [
    "# To see some clear understanding:\n",
    "%matplotlib inline\n",
    "import matplotlib.pyplot as plt\n",
    "import seaborn as sn\n",
    "plt.figure(figsize=(7,5))\n",
    "sn.heatmap(cm, annot=True)\n",
    "plt.xlabel('Predicted')\n",
    "plt.ylabel('Truth')"
   ]
  },
  {
   "cell_type": "code",
   "execution_count": 47,
   "id": "19fdebb2",
   "metadata": {},
   "outputs": [
    {
     "name": "stdout",
     "output_type": "stream",
     "text": [
      "              precision    recall  f1-score   support\n",
      "\n",
      "           0       1.00      1.00      1.00         9\n",
      "           1       0.91      1.00      0.95        10\n",
      "           2       1.00      0.91      0.95        11\n",
      "\n",
      "    accuracy                           0.97        30\n",
      "   macro avg       0.97      0.97      0.97        30\n",
      "weighted avg       0.97      0.97      0.97        30\n",
      "\n"
     ]
    }
   ],
   "source": [
    "# To print classification report for precesion, recall and f1-score for each classes:\n",
    "from sklearn.metrics import classification_report\n",
    "print(classification_report(y_test, y_predicted))"
   ]
  },
  {
   "cell_type": "markdown",
   "id": "654cdac9",
   "metadata": {},
   "source": [
    "### Exercise\n",
    "From sklearn.datasets load digits dataset and do following\n",
    "\n",
    "    1. Classify digits (0 to 9) using KNN classifier. You can use different values for k neighbors and need to figure out a value of K that gives you a maximum score. You can manually try different values of K or use gridsearchcv\n",
    "    2. Plot confusion matrix\n",
    "    3. Plot classification report"
   ]
  },
  {
   "cell_type": "code",
   "execution_count": 48,
   "id": "0613d3ce",
   "metadata": {},
   "outputs": [],
   "source": [
    "# Let's import the dataset:\n",
    "from sklearn.datasets import load_digits\n",
    "digits = load_digits()"
   ]
  },
  {
   "cell_type": "code",
   "execution_count": 52,
   "id": "c93cf169",
   "metadata": {},
   "outputs": [],
   "source": [
    "# So without any extra definition, let's jump directly to split the dataset and train the K-NN model using digits dataset:\n",
    "x_train, x_test, y_train, y_test = train_test_split(digits.data, digits.target, test_size = 0.2)"
   ]
  },
  {
   "cell_type": "code",
   "execution_count": 53,
   "id": "34cbf737",
   "metadata": {},
   "outputs": [
    {
     "data": {
      "text/plain": [
       "KNeighborsClassifier()"
      ]
     },
     "execution_count": 53,
     "metadata": {},
     "output_type": "execute_result"
    }
   ],
   "source": [
    "# Now let's train the model:\n",
    "knne = KNeighborsClassifier(n_neighbors = 5)\n",
    "knne.fit(x_train, y_train)"
   ]
  },
  {
   "cell_type": "code",
   "execution_count": 54,
   "id": "30829a59",
   "metadata": {},
   "outputs": [
    {
     "data": {
      "text/plain": [
       "0.9916666666666667"
      ]
     },
     "execution_count": 54,
     "metadata": {},
     "output_type": "execute_result"
    }
   ],
   "source": [
    "# The model is trained. Let's see the scores:\n",
    "knne.score(x_test, y_test)"
   ]
  },
  {
   "cell_type": "code",
   "execution_count": 55,
   "id": "12af93fc",
   "metadata": {},
   "outputs": [
    {
     "data": {
      "text/plain": [
       "array([[34,  0,  0,  0,  0,  0,  0,  0,  0,  0],\n",
       "       [ 0, 39,  0,  0,  0,  0,  0,  0,  0,  0],\n",
       "       [ 0,  0, 39,  0,  0,  0,  0,  0,  0,  0],\n",
       "       [ 0,  0,  0, 35,  0,  1,  0,  0,  0,  0],\n",
       "       [ 0,  0,  0,  0, 38,  0,  0,  1,  0,  0],\n",
       "       [ 0,  0,  0,  0,  0, 40,  0,  0,  0,  1],\n",
       "       [ 0,  0,  0,  0,  0,  0, 38,  0,  0,  0],\n",
       "       [ 0,  0,  0,  0,  0,  0,  0, 35,  0,  0],\n",
       "       [ 0,  0,  0,  0,  0,  0,  0,  0, 22,  0],\n",
       "       [ 0,  0,  0,  0,  0,  0,  0,  0,  0, 37]], dtype=int64)"
      ]
     },
     "execution_count": 55,
     "metadata": {},
     "output_type": "execute_result"
    }
   ],
   "source": [
    "# To plot the confusion matrix:\n",
    "ye_predicted = knne.predict(x_test)\n",
    "cme = confusion_matrix(y_test, ye_predicted)\n",
    "cme"
   ]
  },
  {
   "cell_type": "code",
   "execution_count": 56,
   "id": "0bf58e5a",
   "metadata": {},
   "outputs": [
    {
     "data": {
      "text/plain": [
       "Text(42.0, 0.5, 'Truth')"
      ]
     },
     "execution_count": 56,
     "metadata": {},
     "output_type": "execute_result"
    },
    {
     "data": {
      "image/png": "[encoded data removed]",
      "text/plain": [
       "<Figure size 504x360 with 2 Axes>"
      ]
     },
     "metadata": {
      "needs_background": "light"
     },
     "output_type": "display_data"
    }
   ],
   "source": [
    "# For colorful confusion matrix:\n",
    "plt.figure(figsize=(7,5))\n",
    "sn.heatmap(cme, annot=True)\n",
    "plt.xlabel('Predicted')\n",
    "plt.ylabel('Truth')"
   ]
  },
  {
   "cell_type": "code",
   "execution_count": 58,
   "id": "a13d001a",
   "metadata": {},
   "outputs": [
    {
     "name": "stdout",
     "output_type": "stream",
     "text": [
      "              precision    recall  f1-score   support\n",
      "\n",
      "           0       1.00      1.00      1.00        34\n",
      "           1       1.00      1.00      1.00        39\n",
      "           2       1.00      1.00      1.00        39\n",
      "           3       1.00      0.97      0.99        36\n",
      "           4       1.00      0.97      0.99        39\n",
      "           5       0.98      0.98      0.98        41\n",
      "           6       1.00      1.00      1.00        38\n",
      "           7       0.97      1.00      0.99        35\n",
      "           8       1.00      1.00      1.00        22\n",
      "           9       0.97      1.00      0.99        37\n",
      "\n",
      "    accuracy                           0.99       360\n",
      "   macro avg       0.99      0.99      0.99       360\n",
      "weighted avg       0.99      0.99      0.99       360\n",
      "\n"
     ]
    }
   ],
   "source": [
    "# To print the classification report:\n",
    "print(classification_report(y_test, ye_predicted))"
   ]
  },
  {
   "cell_type": "markdown",
   "id": "4cc301da",
   "metadata": {},
   "source": [
    "### Now let's see and compare the model performance with different parameters using GridSearchCV:"
   ]
  },
  {
   "cell_type": "code",
   "execution_count": 59,
   "id": "09acc69a",
   "metadata": {},
   "outputs": [],
   "source": [
    "# So the first thing is importing the GridSearchCV:\n",
    "from sklearn.model_selection import GridSearchCV"
   ]
  },
  {
   "cell_type": "code",
   "execution_count": 60,
   "id": "25734b8e",
   "metadata": {},
   "outputs": [
    {
     "data": {
      "text/plain": [
       "{'mean_fit_time': array([0.00160632, 0.0014925 , 0.00100465, 0.00100155, 0.001403  ,\n",
       "        0.00120068]),\n",
       " 'std_fit_time': array([4.85885637e-04, 4.47095981e-04, 3.65146441e-06, 6.32587554e-04,\n",
       "        4.88211596e-04, 3.99232975e-04]),\n",
       " 'mean_score_time': array([0.03196354, 0.03138804, 0.0327374 , 0.03344026, 0.03244772,\n",
       "        0.03319964]),\n",
       " 'std_score_time': array([0.00418285, 0.00269946, 0.00286293, 0.00189327, 0.00230729,\n",
       "        0.00285662]),\n",
       " 'param_n_neighbors': masked_array(data=[3, 5, 8, 10, 12, 15],\n",
       "              mask=[False, False, False, False, False, False],\n",
       "        fill_value='?',\n",
       "             dtype=object),\n",
       " 'params': [{'n_neighbors': 3},\n",
       "  {'n_neighbors': 5},\n",
       "  {'n_neighbors': 8},\n",
       "  {'n_neighbors': 10},\n",
       "  {'n_neighbors': 12},\n",
       "  {'n_neighbors': 15}],\n",
       " 'split0_test_score': array([0.95555556, 0.94722222, 0.93611111, 0.93055556, 0.93611111,\n",
       "        0.93611111]),\n",
       " 'split1_test_score': array([0.95833333, 0.95555556, 0.95833333, 0.94722222, 0.95277778,\n",
       "        0.95      ]),\n",
       " 'split2_test_score': array([0.96657382, 0.96657382, 0.96935933, 0.96935933, 0.96935933,\n",
       "        0.96935933]),\n",
       " 'split3_test_score': array([0.98607242, 0.98050139, 0.97771588, 0.97771588, 0.97493036,\n",
       "        0.97214485]),\n",
       " 'split4_test_score': array([0.96657382, 0.9637883 , 0.94986072, 0.94986072, 0.94986072,\n",
       "        0.94707521]),\n",
       " 'mean_test_score': array([0.96662179, 0.96272826, 0.95827608, 0.95494274, 0.95660786,\n",
       "        0.9549381 ]),\n",
       " 'std_test_score': array([0.01067232, 0.01116854, 0.01457979, 0.01677273, 0.01399017,\n",
       "        0.01374561]),\n",
       " 'rank_test_score': array([1, 2, 3, 5, 4, 6])}"
      ]
     },
     "execution_count": 60,
     "metadata": {},
     "output_type": "execute_result"
    }
   ],
   "source": [
    "# Then we define the classifier, in the classifier the first parameter is our model, the second parameter is parameters list:\n",
    "clf = GridSearchCV(KNeighborsClassifier(), {\n",
    "    'n_neighbors': [3, 5,8, 10, 12, 15],\n",
    "}, cv=5, return_train_score=False)\n",
    "clf.fit(digits.data, digits.target)\n",
    "clf.cv_results_"
   ]
  },
  {
   "cell_type": "code",
   "execution_count": 61,
   "id": "3fc7fef4",
   "metadata": {},
   "outputs": [
    {
     "data": {
      "text/html": [
       "<div>\n",
       "<style scoped>\n",
       "    .dataframe tbody tr th:only-of-type {\n",
       "        vertical-align: middle;\n",
       "    }\n",
       "\n",
       "    .dataframe tbody tr th {\n",
       "        vertical-align: top;\n",
       "    }\n",
       "\n",
       "    .dataframe thead th {\n",
       "        text-align: right;\n",
       "    }\n",
       "</style>\n",
       "<table border=\"1\" class=\"dataframe\">\n",
       "  <thead>\n",
       "    <tr style=\"text-align: right;\">\n",
       "      <th></th>\n",
       "      <th>mean_fit_time</th>\n",
       "      <th>std_fit_time</th>\n",
       "      <th>mean_score_time</th>\n",
       "      <th>std_score_time</th>\n",
       "      <th>param_n_neighbors</th>\n",
       "      <th>params</th>\n",
       "      <th>split0_test_score</th>\n",
       "      <th>split1_test_score</th>\n",
       "      <th>split2_test_score</th>\n",
       "      <th>split3_test_score</th>\n",
       "      <th>split4_test_score</th>\n",
       "      <th>mean_test_score</th>\n",
       "      <th>std_test_score</th>\n",
       "      <th>rank_test_score</th>\n",
       "    </tr>\n",
       "  </thead>\n",
       "  <tbody>\n",
       "    <tr>\n",
       "      <th>0</th>\n",
       "      <td>0.001606</td>\n",
       "      <td>0.000486</td>\n",
       "      <td>0.031964</td>\n",
       "      <td>0.004183</td>\n",
       "      <td>3</td>\n",
       "      <td>{'n_neighbors': 3}</td>\n",
       "      <td>0.955556</td>\n",
       "      <td>0.958333</td>\n",
       "      <td>0.966574</td>\n",
       "      <td>0.986072</td>\n",
       "      <td>0.966574</td>\n",
       "      <td>0.966622</td>\n",
       "      <td>0.010672</td>\n",
       "      <td>1</td>\n",
       "    </tr>\n",
       "    <tr>\n",
       "      <th>1</th>\n",
       "      <td>0.001493</td>\n",
       "      <td>0.000447</td>\n",
       "      <td>0.031388</td>\n",
       "      <td>0.002699</td>\n",
       "      <td>5</td>\n",
       "      <td>{'n_neighbors': 5}</td>\n",
       "      <td>0.947222</td>\n",
       "      <td>0.955556</td>\n",
       "      <td>0.966574</td>\n",
       "      <td>0.980501</td>\n",
       "      <td>0.963788</td>\n",
       "      <td>0.962728</td>\n",
       "      <td>0.011169</td>\n",
       "      <td>2</td>\n",
       "    </tr>\n",
       "    <tr>\n",
       "      <th>2</th>\n",
       "      <td>0.001005</td>\n",
       "      <td>0.000004</td>\n",
       "      <td>0.032737</td>\n",
       "      <td>0.002863</td>\n",
       "      <td>8</td>\n",
       "      <td>{'n_neighbors': 8}</td>\n",
       "      <td>0.936111</td>\n",
       "      <td>0.958333</td>\n",
       "      <td>0.969359</td>\n",
       "      <td>0.977716</td>\n",
       "      <td>0.949861</td>\n",
       "      <td>0.958276</td>\n",
       "      <td>0.014580</td>\n",
       "      <td>3</td>\n",
       "    </tr>\n",
       "    <tr>\n",
       "      <th>3</th>\n",
       "      <td>0.001002</td>\n",
       "      <td>0.000633</td>\n",
       "      <td>0.033440</td>\n",
       "      <td>0.001893</td>\n",
       "      <td>10</td>\n",
       "      <td>{'n_neighbors': 10}</td>\n",
       "      <td>0.930556</td>\n",
       "      <td>0.947222</td>\n",
       "      <td>0.969359</td>\n",
       "      <td>0.977716</td>\n",
       "      <td>0.949861</td>\n",
       "      <td>0.954943</td>\n",
       "      <td>0.016773</td>\n",
       "      <td>5</td>\n",
       "    </tr>\n",
       "    <tr>\n",
       "      <th>4</th>\n",
       "      <td>0.001403</td>\n",
       "      <td>0.000488</td>\n",
       "      <td>0.032448</td>\n",
       "      <td>0.002307</td>\n",
       "      <td>12</td>\n",
       "      <td>{'n_neighbors': 12}</td>\n",
       "      <td>0.936111</td>\n",
       "      <td>0.952778</td>\n",
       "      <td>0.969359</td>\n",
       "      <td>0.974930</td>\n",
       "      <td>0.949861</td>\n",
       "      <td>0.956608</td>\n",
       "      <td>0.013990</td>\n",
       "      <td>4</td>\n",
       "    </tr>\n",
       "    <tr>\n",
       "      <th>5</th>\n",
       "      <td>0.001201</td>\n",
       "      <td>0.000399</td>\n",
       "      <td>0.033200</td>\n",
       "      <td>0.002857</td>\n",
       "      <td>15</td>\n",
       "      <td>{'n_neighbors': 15}</td>\n",
       "      <td>0.936111</td>\n",
       "      <td>0.950000</td>\n",
       "      <td>0.969359</td>\n",
       "      <td>0.972145</td>\n",
       "      <td>0.947075</td>\n",
       "      <td>0.954938</td>\n",
       "      <td>0.013746</td>\n",
       "      <td>6</td>\n",
       "    </tr>\n",
       "  </tbody>\n",
       "</table>\n",
       "</div>"
      ],
      "text/plain": [
       "   mean_fit_time  std_fit_time  mean_score_time  std_score_time  \\\n",
       "0       0.001606      0.000486         0.031964        0.004183   \n",
       "1       0.001493      0.000447         0.031388        0.002699   \n",
       "2       0.001005      0.000004         0.032737        0.002863   \n",
       "3       0.001002      0.000633         0.033440        0.001893   \n",
       "4       0.001403      0.000488         0.032448        0.002307   \n",
       "5       0.001201      0.000399         0.033200        0.002857   \n",
       "\n",
       "  param_n_neighbors               params  split0_test_score  \\\n",
       "0                 3   {'n_neighbors': 3}           0.955556   \n",
       "1                 5   {'n_neighbors': 5}           0.947222   \n",
       "2                 8   {'n_neighbors': 8}           0.936111   \n",
       "3                10  {'n_neighbors': 10}           0.930556   \n",
       "4                12  {'n_neighbors': 12}           0.936111   \n",
       "5                15  {'n_neighbors': 15}           0.936111   \n",
       "\n",
       "   split1_test_score  split2_test_score  split3_test_score  split4_test_score  \\\n",
       "0           0.958333           0.966574           0.986072           0.966574   \n",
       "1           0.955556           0.966574           0.980501           0.963788   \n",
       "2           0.958333           0.969359           0.977716           0.949861   \n",
       "3           0.947222           0.969359           0.977716           0.949861   \n",
       "4           0.952778           0.969359           0.974930           0.949861   \n",
       "5           0.950000           0.969359           0.972145           0.947075   \n",
       "\n",
       "   mean_test_score  std_test_score  rank_test_score  \n",
       "0         0.966622        0.010672                1  \n",
       "1         0.962728        0.011169                2  \n",
       "2         0.958276        0.014580                3  \n",
       "3         0.954943        0.016773                5  \n",
       "4         0.956608        0.013990                4  \n",
       "5         0.954938        0.013746                6  "
      ]
     },
     "execution_count": 61,
     "metadata": {},
     "output_type": "execute_result"
    }
   ],
   "source": [
    "# Importing the result into the DataFrame:\n",
    "df = pd.DataFrame(clf.cv_results_)\n",
    "df"
   ]
  },
  {
   "cell_type": "code",
   "execution_count": 64,
   "id": "c73ab140",
   "metadata": {},
   "outputs": [
    {
     "data": {
      "text/html": [
       "<div>\n",
       "<style scoped>\n",
       "    .dataframe tbody tr th:only-of-type {\n",
       "        vertical-align: middle;\n",
       "    }\n",
       "\n",
       "    .dataframe tbody tr th {\n",
       "        vertical-align: top;\n",
       "    }\n",
       "\n",
       "    .dataframe thead th {\n",
       "        text-align: right;\n",
       "    }\n",
       "</style>\n",
       "<table border=\"1\" class=\"dataframe\">\n",
       "  <thead>\n",
       "    <tr style=\"text-align: right;\">\n",
       "      <th></th>\n",
       "      <th>params</th>\n",
       "      <th>mean_test_score</th>\n",
       "      <th>rank_test_score</th>\n",
       "    </tr>\n",
       "  </thead>\n",
       "  <tbody>\n",
       "    <tr>\n",
       "      <th>0</th>\n",
       "      <td>{'n_neighbors': 3}</td>\n",
       "      <td>0.966622</td>\n",
       "      <td>1</td>\n",
       "    </tr>\n",
       "    <tr>\n",
       "      <th>1</th>\n",
       "      <td>{'n_neighbors': 5}</td>\n",
       "      <td>0.962728</td>\n",
       "      <td>2</td>\n",
       "    </tr>\n",
       "    <tr>\n",
       "      <th>2</th>\n",
       "      <td>{'n_neighbors': 8}</td>\n",
       "      <td>0.958276</td>\n",
       "      <td>3</td>\n",
       "    </tr>\n",
       "    <tr>\n",
       "      <th>3</th>\n",
       "      <td>{'n_neighbors': 10}</td>\n",
       "      <td>0.954943</td>\n",
       "      <td>5</td>\n",
       "    </tr>\n",
       "    <tr>\n",
       "      <th>4</th>\n",
       "      <td>{'n_neighbors': 12}</td>\n",
       "      <td>0.956608</td>\n",
       "      <td>4</td>\n",
       "    </tr>\n",
       "    <tr>\n",
       "      <th>5</th>\n",
       "      <td>{'n_neighbors': 15}</td>\n",
       "      <td>0.954938</td>\n",
       "      <td>6</td>\n",
       "    </tr>\n",
       "  </tbody>\n",
       "</table>\n",
       "</div>"
      ],
      "text/plain": [
       "                params  mean_test_score  rank_test_score\n",
       "0   {'n_neighbors': 3}         0.966622                1\n",
       "1   {'n_neighbors': 5}         0.962728                2\n",
       "2   {'n_neighbors': 8}         0.958276                3\n",
       "3  {'n_neighbors': 10}         0.954943                5\n",
       "4  {'n_neighbors': 12}         0.956608                4\n",
       "5  {'n_neighbors': 15}         0.954938                6"
      ]
     },
     "execution_count": 64,
     "metadata": {},
     "output_type": "execute_result"
    }
   ],
   "source": [
    "# Some parameters in the above DataFrame might be not useful so we create a sub DataFrame for quick result:\n",
    "df[['params','mean_test_score', 'rank_test_score']]"
   ]
  },
  {
   "cell_type": "markdown",
   "id": "2cada3cf",
   "metadata": {},
   "source": [
    "### Thats were all about K-Nearest Neighbor Classification Algorithms"
   ]
  }
 ],
 "metadata": {
  "kernelspec": {
   "display_name": "Python 3 (ipykernel)",
   "language": "python",
   "name": "python3"
  },
  "language_info": {
   "codemirror_mode": {
    "name": "ipython",
    "version": 3
   },
   "file_extension": ".py",
   "mimetype": "text/x-python",
   "name": "python",
   "nbconvert_exporter": "python",
   "pygments_lexer": "ipython3",
   "version": "3.9.12"
  }
 },
 "nbformat": 4,
 "nbformat_minor": 5
}
