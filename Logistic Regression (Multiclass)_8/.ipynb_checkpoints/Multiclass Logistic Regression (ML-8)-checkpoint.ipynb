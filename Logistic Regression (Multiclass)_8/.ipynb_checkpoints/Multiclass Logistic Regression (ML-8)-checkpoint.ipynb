{
 "cells": [
  {
   "cell_type": "markdown",
   "id": "7a15a430",
   "metadata": {},
   "source": [
    "## Multiclass Classification (Logistic Regression)\n",
    "\n",
    "Here we want to identify hand written digits: we map a digit with a set of output whihc is [0-1-2-3-4-5-6-7-8-9]. So We'll use a training se with lots of hand digit charaters and then we'll build a model using Logistic Regression (LR)."
   ]
  },
  {
   "cell_type": "code",
   "execution_count": 4,
   "id": "116621c1",
   "metadata": {},
   "outputs": [],
   "source": [
    "# Here we import matplots and digits from siket learn. So sklean has some free ready math datasets \n",
    "# that you can use to learn machine learning, from these we're using load_digits dataset:\n",
    "%matplotlib inline\n",
    "import matplotlib.pyplot as plt\n",
    "\n",
    "from sklearn.datasets import load_digits"
   ]
  },
  {
   "cell_type": "code",
   "execution_count": 5,
   "id": "7cbd926a",
   "metadata": {},
   "outputs": [],
   "source": [
    "# To load the dataset, we call load_digits method:\n",
    "digits = load_digits()"
   ]
  },
  {
   "cell_type": "code",
   "execution_count": 6,
   "id": "1df01d3c",
   "metadata": {},
   "outputs": [
    {
     "data": {
      "text/plain": [
       "['DESCR', 'data', 'feature_names', 'frame', 'images', 'target', 'target_names']"
      ]
     },
     "execution_count": 6,
     "metadata": {},
     "output_type": "execute_result"
    }
   ],
   "source": [
    "# This dataset cotain couple of things: 1) It has data which is your real data:\n",
    "dir(digits)"
   ]
  },
  {
   "cell_type": "code",
   "execution_count": 7,
   "id": "53d3122c",
   "metadata": {},
   "outputs": [
    {
     "data": {
      "text/plain": [
       "array([ 0.,  0.,  5., 13.,  9.,  1.,  0.,  0.,  0.,  0., 13., 15., 10.,\n",
       "       15.,  5.,  0.,  0.,  3., 15.,  2.,  0., 11.,  8.,  0.,  0.,  4.,\n",
       "       12.,  0.,  0.,  8.,  8.,  0.,  0.,  5.,  8.,  0.,  0.,  9.,  8.,\n",
       "        0.,  0.,  4., 11.,  0.,  1., 12.,  7.,  0.,  0.,  2., 14.,  5.,\n",
       "       10., 12.,  0.,  0.,  0.,  0.,  6., 13., 10.,  0.,  0.,  0.])"
      ]
     },
     "execution_count": 7,
     "metadata": {},
     "output_type": "execute_result"
    }
   ],
   "source": [
    "# Let's print some values, as if you see the documentation of this dataset, it contains 1797 (8*8) samples.\n",
    "digits.data[0]"
   ]
  },
  {
   "cell_type": "markdown",
   "id": "19631499",
   "metadata": {},
   "source": [
    "* So as we see, we displayed the first element which is nothing but an array. In reality it's 8 * 8 image which is represented by 1-D array. So if we count the element of the array, it will be 64 bits array (8*8)."
   ]
  },
  {
   "cell_type": "code",
   "execution_count": 8,
   "id": "23cdb853",
   "metadata": {},
   "outputs": [
    {
     "data": {
      "text/plain": [
       "<matplotlib.image.AxesImage at 0x2106d981040>"
      ]
     },
     "execution_count": 8,
     "metadata": {},
     "output_type": "execute_result"
    },
    {
     "data": {
      "text/plain": [
       "<Figure size 432x288 with 0 Axes>"
      ]
     },
     "metadata": {},
     "output_type": "display_data"
    },
    {
     "data": {
      "image/png": "[encoded data removed]",
      "text/plain": [
       "<Figure size 288x288 with 1 Axes>"
      ]
     },
     "metadata": {
      "needs_background": "light"
     },
     "output_type": "display_data"
    }
   ],
   "source": [
    "# If we want to see this particular image:\n",
    "# digit.data has the actual data and digit.images has the actual images.\n",
    "plt.gray()\n",
    "plt.matshow (digits.images[0])"
   ]
  },
  {
   "cell_type": "code",
   "execution_count": 10,
   "id": "c3382af6",
   "metadata": {},
   "outputs": [
    {
     "data": {
      "text/plain": [
       "<Figure size 432x288 with 0 Axes>"
      ]
     },
     "metadata": {},
     "output_type": "display_data"
    },
    {
     "data": {
      "image/png": "[encoded data removed]",
      "text/plain": [
       "<Figure size 288x288 with 1 Axes>"
      ]
     },
     "metadata": {
      "needs_background": "light"
     },
     "output_type": "display_data"
    },
    {
     "data": {
      "image/png": "[encoded data removed]",
      "text/plain": [
       "<Figure size 288x288 with 1 Axes>"
      ]
     },
     "metadata": {
      "needs_background": "light"
     },
     "output_type": "display_data"
    },
    {
     "data": {
      "image/png": "[encoded data removed]",
      "text/plain": [
       "<Figure size 288x288 with 1 Axes>"
      ]
     },
     "metadata": {
      "needs_background": "light"
     },
     "output_type": "display_data"
    }
   ],
   "source": [
    "# Let's print first three samples:\n",
    "plt.gray()\n",
    "for i in range(3):\n",
    "    plt.matshow(digits.images[i])"
   ]
  },
  {
   "cell_type": "code",
   "execution_count": 12,
   "id": "b655947f",
   "metadata": {},
   "outputs": [
    {
     "data": {
      "text/plain": [
       "array([0, 1, 2])"
      ]
     },
     "execution_count": 12,
     "metadata": {},
     "output_type": "execute_result"
    }
   ],
   "source": [
    "# digits.target show you the actual number of images, see we printed the first 3 images, now through target we can specify \n",
    "# whihc numbers they are:\n",
    "digits.target[0:3]"
   ]
  },
  {
   "cell_type": "markdown",
   "id": "69cbd894",
   "metadata": {},
   "source": [
    "* So as we see the images are [ 0 - 1 - 2 ]. \n",
    "* So we can use digits.data and digits.target to train the model."
   ]
  },
  {
   "cell_type": "code",
   "execution_count": 25,
   "id": "d0baac12",
   "metadata": {},
   "outputs": [],
   "source": [
    "# So now before training the model we import the train_test_split method:\n",
    "from sklearn.model_selection import train_test_split\n",
    "X_train, X_test, y_train, y_test = train_test_split(digits.data, digits.target, test_size = 0.2)"
   ]
  },
  {
   "cell_type": "code",
   "execution_count": 26,
   "id": "02fe38a0",
   "metadata": {},
   "outputs": [
    {
     "data": {
      "text/plain": [
       "1437"
      ]
     },
     "execution_count": 26,
     "metadata": {},
     "output_type": "execute_result"
    }
   ],
   "source": [
    "# To see the length of train dataset:\n",
    "len(X_train)"
   ]
  },
  {
   "cell_type": "code",
   "execution_count": 27,
   "id": "0d09a254",
   "metadata": {},
   "outputs": [
    {
     "data": {
      "text/plain": [
       "360"
      ]
     },
     "execution_count": 27,
     "metadata": {},
     "output_type": "execute_result"
    }
   ],
   "source": [
    "# To see the length of test data:\n",
    "len(X_test)"
   ]
  },
  {
   "cell_type": "code",
   "execution_count": 28,
   "id": "1aeebb24",
   "metadata": {},
   "outputs": [],
   "source": [
    "# Now we have train and test data, the next step is to create a Logistic Regression model:\n",
    "from sklearn.linear_model import LogisticRegression\n",
    "lreg = LogisticRegression()"
   ]
  },
  {
   "cell_type": "code",
   "execution_count": 29,
   "id": "aaf3a806",
   "metadata": {},
   "outputs": [
    {
     "name": "stderr",
     "output_type": "stream",
     "text": [
      "C:\\Users\\Habib\\anaconda3\\lib\\site-packages\\sklearn\\linear_model\\_logistic.py:814: ConvergenceWarning: lbfgs failed to converge (status=1):\n",
      "STOP: TOTAL NO. of ITERATIONS REACHED LIMIT.\n",
      "\n",
      "Increase the number of iterations (max_iter) or scale the data as shown in:\n",
      "    https://scikit-learn.org/stable/modules/preprocessing.html\n",
      "Please also refer to the documentation for alternative solver options:\n",
      "    https://scikit-learn.org/stable/modules/linear_model.html#logistic-regression\n",
      "  n_iter_i = _check_optimize_result(\n"
     ]
    },
    {
     "data": {
      "text/plain": [
       "LogisticRegression()"
      ]
     },
     "execution_count": 29,
     "metadata": {},
     "output_type": "execute_result"
    }
   ],
   "source": [
    "# The next step is to train the model using fit() method:\n",
    "lreg.fit(X_train, y_train)"
   ]
  },
  {
   "cell_type": "markdown",
   "id": "8ee563f5",
   "metadata": {},
   "source": [
    "* So now the model is trained. Again to repeat the X_train has the hand written characters and the y_train has the corresponding output (for example: for image-4 the y_train will be 4.)"
   ]
  },
  {
   "cell_type": "code",
   "execution_count": 30,
   "id": "06e9dc0b",
   "metadata": {},
   "outputs": [
    {
     "data": {
      "text/plain": [
       "0.9694444444444444"
      ]
     },
     "execution_count": 30,
     "metadata": {},
     "output_type": "execute_result"
    }
   ],
   "source": [
    "# Now let's see the model accuracy by using 'score' method: So using the X_test it will calculate the y-predicted value and\n",
    "# it will compare those y-predicted values with the real values which is t_test.\n",
    "lreg.score(X_test, y_test)"
   ]
  },
  {
   "cell_type": "code",
   "execution_count": 39,
   "id": "9b878b63",
   "metadata": {},
   "outputs": [
    {
     "data": {
      "text/plain": [
       "<matplotlib.image.AxesImage at 0x210702d9430>"
      ]
     },
     "execution_count": 39,
     "metadata": {},
     "output_type": "execute_result"
    },
    {
     "data": {
      "image/png": "[encoded data removed]",
      "text/plain": [
       "<Figure size 288x288 with 1 Axes>"
      ]
     },
     "metadata": {
      "needs_background": "light"
     },
     "output_type": "display_data"
    }
   ],
   "source": [
    "# Before predicting the actual output, let's pickup a random sample:\n",
    "plt.matshow(digits.images[100])"
   ]
  },
  {
   "cell_type": "code",
   "execution_count": 40,
   "id": "096338aa",
   "metadata": {},
   "outputs": [
    {
     "data": {
      "text/plain": [
       "4"
      ]
     },
     "execution_count": 40,
     "metadata": {},
     "output_type": "execute_result"
    }
   ],
   "source": [
    "# Now let's see what this number is:\n",
    "digits.target[100]"
   ]
  },
  {
   "cell_type": "code",
   "execution_count": 42,
   "id": "dbdfd884",
   "metadata": {},
   "outputs": [
    {
     "data": {
      "text/plain": [
       "array([4])"
      ]
     },
     "execution_count": 42,
     "metadata": {},
     "output_type": "execute_result"
    }
   ],
   "source": [
    "# Now let's see what our model will predict for this numbers:\n",
    "# Here we're not supplying images here, because images are binary data and our model likes numeric data more...\n",
    "# For using the same index [100] we are using data:\n",
    "lreg.predict([digits.data[100]])"
   ]
  },
  {
   "cell_type": "code",
   "execution_count": 44,
   "id": "488643dd",
   "metadata": {
    "scrolled": true
   },
   "outputs": [
    {
     "data": {
      "text/plain": [
       "array([0, 1, 2])"
      ]
     },
     "execution_count": 44,
     "metadata": {},
     "output_type": "execute_result"
    }
   ],
   "source": [
    "# Now let's predict [0:3]:\n",
    "lreg.predict(digits.data[0:3])"
   ]
  },
  {
   "cell_type": "markdown",
   "id": "f1df9003",
   "metadata": {},
   "source": [
    "* So as you see the model is predicting the target values alright."
   ]
  },
  {
   "cell_type": "code",
   "execution_count": 45,
   "id": "beed602d",
   "metadata": {},
   "outputs": [],
   "source": [
    "# Now, let's see where my model is doing wrong, till now when I'm trying every value, it's giving me the correct answer. But\n",
    "# We see the accuracy of our model is 0.96, means my model will get 0.34 mistakes. \n",
    "# One way of analyzing the model is confusion matrix. let's import it:\n",
    "from sklearn.metrics import confusion_matrix"
   ]
  },
  {
   "cell_type": "code",
   "execution_count": 47,
   "id": "eeaaca11",
   "metadata": {},
   "outputs": [
    {
     "data": {
      "text/plain": [
       "array([[38,  0,  0,  0,  0,  0,  0,  0,  0,  0],\n",
       "       [ 0, 38,  0,  1,  0,  0,  0,  0,  0,  1],\n",
       "       [ 0,  0, 35,  0,  0,  0,  0,  0,  0,  0],\n",
       "       [ 0,  0,  0, 37,  0,  0,  0,  0,  2,  0],\n",
       "       [ 0,  0,  0,  0, 38,  0,  0,  1,  0,  0],\n",
       "       [ 0,  0,  0,  0,  1, 27,  0,  1,  0,  0],\n",
       "       [ 0,  0,  0,  0,  0,  0, 38,  0,  0,  0],\n",
       "       [ 0,  0,  0,  0,  0,  0,  0, 35,  0,  0],\n",
       "       [ 0,  1,  0,  0,  1,  0,  0,  0, 30,  0],\n",
       "       [ 1,  0,  0,  1,  0,  0,  0,  0,  0, 33]], dtype=int64)"
      ]
     },
     "execution_count": 47,
     "metadata": {},
     "output_type": "execute_result"
    }
   ],
   "source": [
    "# Now we need to get the predicted values:\n",
    "# Then in the confusion matrix we supply y_test which is the truth, and then y_predicted which is predicted by our model:\n",
    "y_predicted = lreg.predict(X_test)\n",
    "cm = confusion_matrix(y_test, y_predicted)\n",
    "cm"
   ]
  },
  {
   "cell_type": "code",
   "execution_count": 50,
   "id": "547f054a",
   "metadata": {},
   "outputs": [
    {
     "data": {
      "text/plain": [
       "Text(69.0, 0.5, 'Truth')"
      ]
     },
     "execution_count": 50,
     "metadata": {},
     "output_type": "execute_result"
    },
    {
     "data": {
      "image/png": "[encoded data removed]",
      "text/plain": [
       "<Figure size 720x504 with 2 Axes>"
      ]
     },
     "metadata": {
      "needs_background": "light"
     },
     "output_type": "display_data"
    }
   ],
   "source": [
    "# For better visualization of confusion matrix, let's use matplotlib or seaborn:\n",
    "# seaborn library is similar with matplotlib, used for visualization purpose. Then we're calling heatmap method with the \n",
    "# confusion matrix 'cm' vairable that we created before.\n",
    "import seaborn as sn\n",
    "plt.figure(figsize = (10, 7))\n",
    "sn.heatmap(cm, annot = True)\n",
    "plt.xlabel(\"Predicted\")\n",
    "plt.ylabel(\"Truth\")"
   ]
  },
  {
   "cell_type": "markdown",
   "id": "b33d2c32",
   "metadata": {},
   "source": [
    "Now let's see the 10th row and 1st column where we have 1. So this 1 means that the truth was that this should be 9, but our model get mistake and predicted that no it's 0. Similarly for the 4th row and 9th column we see 2. This means that two times the actual value was 3, but my model get mistakes and predicted to be 8.\n",
    "* Confusion matrix is an excellent ways of visualizaing how well our model is doing."
   ]
  },
  {
   "cell_type": "markdown",
   "id": "60b08109",
   "metadata": {},
   "source": [
    "### Exercise\n",
    "Use sklearn.datasets iris flower dataset to train your model using logistic regression. You need to figure out accuracy of your model and use that to predict different samples in your test dataset. In iris dataset there are 150 samples containing following features,\n",
    "\n",
    "    1) Sepal Length\n",
    "    2) Sepal Width\n",
    "    3) Petal Length\n",
    "    4) Petal Width\n",
    "Using above 4 features you will clasify a flower in one of the three categories,\n",
    "\n",
    "    1. Setosa\n",
    "    2. Versicolour\n",
    "    3. Virginica"
   ]
  },
  {
   "cell_type": "markdown",
   "id": "8523ea24",
   "metadata": {},
   "source": [
    "<img src=\"iris_petal_sepal.png\" width=400 height=400 />"
   ]
  },
  {
   "cell_type": "code",
   "execution_count": 130,
   "id": "182866b8",
   "metadata": {},
   "outputs": [],
   "source": [
    "# First of all let's load the dataset:\n",
    "from sklearn import datasets\n",
    "from sklearn.decomposition import PCA\n",
    "\n",
    "iris = datasets.load_iris()"
   ]
  },
  {
   "cell_type": "code",
   "execution_count": 120,
   "id": "d0af4c51",
   "metadata": {
    "scrolled": true
   },
   "outputs": [
    {
     "data": {
      "text/plain": [
       "['DESCR',\n",
       " 'data',\n",
       " 'data_module',\n",
       " 'feature_names',\n",
       " 'filename',\n",
       " 'frame',\n",
       " 'target',\n",
       " 'target_names']"
      ]
     },
     "execution_count": 120,
     "metadata": {},
     "output_type": "execute_result"
    }
   ],
   "source": [
    "# Now let's see what we have in this dataset:\n",
    "dir(iris)"
   ]
  },
  {
   "cell_type": "code",
   "execution_count": 121,
   "id": "d85669d2",
   "metadata": {},
   "outputs": [
    {
     "data": {
      "text/plain": [
       "(150, 4)"
      ]
     },
     "execution_count": 121,
     "metadata": {},
     "output_type": "execute_result"
    }
   ],
   "source": [
    "# To see the shape of dataset:\n",
    "iris.data.shape"
   ]
  },
  {
   "cell_type": "code",
   "execution_count": 107,
   "id": "545bfeb6",
   "metadata": {},
   "outputs": [
    {
     "data": {
      "text/plain": [
       "['sepal length (cm)',\n",
       " 'sepal width (cm)',\n",
       " 'petal length (cm)',\n",
       " 'petal width (cm)']"
      ]
     },
     "execution_count": 107,
     "metadata": {},
     "output_type": "execute_result"
    }
   ],
   "source": [
    "# To see the features names:\n",
    "iris.feature_names"
   ]
  },
  {
   "cell_type": "code",
   "execution_count": 57,
   "id": "0d396d6d",
   "metadata": {},
   "outputs": [
    {
     "data": {
      "text/plain": [
       "array([5.1, 3.5, 1.4, 0.2])"
      ]
     },
     "execution_count": 57,
     "metadata": {},
     "output_type": "execute_result"
    }
   ],
   "source": [
    "# Let's check what is the first item:\n",
    "iris.data[0]"
   ]
  },
  {
   "cell_type": "markdown",
   "id": "936c3fbd",
   "metadata": {},
   "source": [
    "* So it's giving us the width and lenght of Sepal and Petal."
   ]
  },
  {
   "cell_type": "code",
   "execution_count": 98,
   "id": "452f6e5d",
   "metadata": {},
   "outputs": [
    {
     "data": {
      "text/plain": [
       "0"
      ]
     },
     "execution_count": 98,
     "metadata": {},
     "output_type": "execute_result"
    }
   ],
   "source": [
    "iris.target[49]"
   ]
  },
  {
   "cell_type": "code",
   "execution_count": 99,
   "id": "0cd457be",
   "metadata": {},
   "outputs": [
    {
     "data": {
      "text/plain": [
       "1"
      ]
     },
     "execution_count": 99,
     "metadata": {},
     "output_type": "execute_result"
    }
   ],
   "source": [
    "iris.target[67]"
   ]
  },
  {
   "cell_type": "code",
   "execution_count": 100,
   "id": "19fb392c",
   "metadata": {},
   "outputs": [
    {
     "data": {
      "text/plain": [
       "2"
      ]
     },
     "execution_count": 100,
     "metadata": {},
     "output_type": "execute_result"
    }
   ],
   "source": [
    "iris.target[110]"
   ]
  },
  {
   "cell_type": "code",
   "execution_count": 84,
   "id": "78ae5cf1",
   "metadata": {},
   "outputs": [
    {
     "data": {
      "text/plain": [
       "array([0, 0, 0, 0, 0, 0, 0, 0, 0, 0, 0, 0, 0, 0, 0, 0, 0, 0, 0, 0, 0, 0,\n",
       "       0, 0, 0, 0, 0, 0, 0, 0, 0, 0, 0, 0, 0, 0, 0, 0, 0, 0, 0, 0, 0, 0,\n",
       "       0, 0, 0, 0, 0, 0, 1, 1, 1, 1, 1, 1, 1, 1, 1, 1, 1, 1, 1, 1, 1, 1,\n",
       "       1, 1, 1, 1, 1, 1, 1, 1, 1, 1, 1, 1, 1, 1, 1, 1, 1, 1, 1, 1, 1, 1,\n",
       "       1, 1, 1, 1, 1, 1, 1, 1, 1, 1, 1, 1, 2, 2, 2, 2, 2, 2, 2, 2, 2, 2,\n",
       "       2, 2, 2, 2, 2, 2, 2, 2, 2, 2, 2, 2, 2, 2, 2, 2, 2, 2, 2, 2, 2, 2,\n",
       "       2, 2, 2, 2, 2, 2, 2, 2, 2, 2, 2, 2, 2, 2, 2, 2, 2, 2])"
      ]
     },
     "execution_count": 84,
     "metadata": {},
     "output_type": "execute_result"
    }
   ],
   "source": [
    "# Let's see the targets:\n",
    "iris.target"
   ]
  },
  {
   "cell_type": "code",
   "execution_count": 122,
   "id": "b6f5b93f",
   "metadata": {},
   "outputs": [
    {
     "data": {
      "text/plain": [
       "array(['setosa', 'versicolor', 'virginica'], dtype='<U10')"
      ]
     },
     "execution_count": 122,
     "metadata": {},
     "output_type": "execute_result"
    }
   ],
   "source": [
    "# To see the target names (include categories):\n",
    "iris.target_names[:]"
   ]
  },
  {
   "cell_type": "code",
   "execution_count": 131,
   "id": "ae9e5825",
   "metadata": {},
   "outputs": [],
   "source": [
    "# So now to split the dataset into train and test, we call to train_test_split method:\n",
    "from sklearn.model_selection import train_test_split\n",
    "X_train, X_test, y_train, y_test = train_test_split(iris.data, iris.target, test_size = 0.1)"
   ]
  },
  {
   "cell_type": "code",
   "execution_count": 132,
   "id": "381c60c1",
   "metadata": {},
   "outputs": [
    {
     "data": {
      "text/plain": [
       "135"
      ]
     },
     "execution_count": 132,
     "metadata": {},
     "output_type": "execute_result"
    }
   ],
   "source": [
    "# So the data is splited. Now to see the lenght of train dataset:\n",
    "len(X_train)"
   ]
  },
  {
   "cell_type": "code",
   "execution_count": 133,
   "id": "1a76ebf5",
   "metadata": {},
   "outputs": [
    {
     "data": {
      "text/plain": [
       "15"
      ]
     },
     "execution_count": 133,
     "metadata": {},
     "output_type": "execute_result"
    }
   ],
   "source": [
    "# And to see the lenght of test samples:\n",
    "len(X_test)"
   ]
  },
  {
   "cell_type": "code",
   "execution_count": 134,
   "id": "c8857e9a",
   "metadata": {},
   "outputs": [],
   "source": [
    "# The next step is to create a Logistic Regression model:\n",
    "from sklearn.linear_model import LogisticRegression\n",
    "lrege = LogisticRegression()"
   ]
  },
  {
   "cell_type": "code",
   "execution_count": 135,
   "id": "fdd30130",
   "metadata": {},
   "outputs": [
    {
     "name": "stderr",
     "output_type": "stream",
     "text": [
      "C:\\Users\\Habib\\anaconda3\\lib\\site-packages\\sklearn\\linear_model\\_logistic.py:814: ConvergenceWarning: lbfgs failed to converge (status=1):\n",
      "STOP: TOTAL NO. of ITERATIONS REACHED LIMIT.\n",
      "\n",
      "Increase the number of iterations (max_iter) or scale the data as shown in:\n",
      "    https://scikit-learn.org/stable/modules/preprocessing.html\n",
      "Please also refer to the documentation for alternative solver options:\n",
      "    https://scikit-learn.org/stable/modules/linear_model.html#logistic-regression\n",
      "  n_iter_i = _check_optimize_result(\n"
     ]
    },
    {
     "data": {
      "text/plain": [
       "LogisticRegression()"
      ]
     },
     "execution_count": 135,
     "metadata": {},
     "output_type": "execute_result"
    }
   ],
   "source": [
    "# The next step is to train the model:\n",
    "lrege.fit(X_train, y_train)"
   ]
  },
  {
   "cell_type": "code",
   "execution_count": 136,
   "id": "6045c31f",
   "metadata": {},
   "outputs": [
    {
     "data": {
      "text/plain": [
       "1.0"
      ]
     },
     "execution_count": 136,
     "metadata": {},
     "output_type": "execute_result"
    }
   ],
   "source": [
    "# Now the model is trained. Let's see the model accuracy:\n",
    "lrege.score(X_test, y_test)"
   ]
  },
  {
   "cell_type": "markdown",
   "id": "19be522d",
   "metadata": {},
   "source": [
    "* Yessssssssss! As we have small dataset, so the model accuracy is 100%."
   ]
  },
  {
   "cell_type": "code",
   "execution_count": 137,
   "id": "3bbf835b",
   "metadata": {},
   "outputs": [
    {
     "data": {
      "text/plain": [
       "array([[1, 0, 0],\n",
       "       [0, 6, 0],\n",
       "       [0, 0, 8]], dtype=int64)"
      ]
     },
     "execution_count": 137,
     "metadata": {},
     "output_type": "execute_result"
    }
   ],
   "source": [
    "# Now let's see the confusion matrix:\n",
    "ye_predicted = lrege.predict(X_test)\n",
    "cme = confusion_matrix(y_test, ye_predicted)\n",
    "cme"
   ]
  },
  {
   "cell_type": "code",
   "execution_count": 138,
   "id": "487ae0ce",
   "metadata": {},
   "outputs": [
    {
     "data": {
      "text/plain": [
       "Text(69.0, 0.5, 'Truth')"
      ]
     },
     "execution_count": 138,
     "metadata": {},
     "output_type": "execute_result"
    },
    {
     "data": {
      "image/png": "[encoded data removed]",
      "text/plain": [
       "<Figure size 720x504 with 2 Axes>"
      ]
     },
     "metadata": {
      "needs_background": "light"
     },
     "output_type": "display_data"
    }
   ],
   "source": [
    "import seaborn as sn\n",
    "plt.figure(figsize = (10, 7))\n",
    "sn.heatmap(cme, annot = True)\n",
    "plt.xlabel(\"Predicted\")\n",
    "plt.ylabel(\"Truth\")"
   ]
  },
  {
   "cell_type": "markdown",
   "id": "f891fb35",
   "metadata": {},
   "source": [
    "* Thats were all about logistic Regression ..."
   ]
  }
 ],
 "metadata": {
  "kernelspec": {
   "display_name": "Python 3 (ipykernel)",
   "language": "python",
   "name": "python3"
  },
  "language_info": {
   "codemirror_mode": {
    "name": "ipython",
    "version": 3
   },
   "file_extension": ".py",
   "mimetype": "text/x-python",
   "name": "python",
   "nbconvert_exporter": "python",
   "pygments_lexer": "ipython3",
   "version": "3.9.12"
  }
 },
 "nbformat": 4,
 "nbformat_minor": 5
}
